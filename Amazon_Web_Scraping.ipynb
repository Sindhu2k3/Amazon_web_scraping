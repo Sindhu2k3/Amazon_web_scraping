{
  "nbformat": 4,
  "nbformat_minor": 0,
  "metadata": {
    "colab": {
      "provenance": []
    },
    "kernelspec": {
      "name": "python3",
      "display_name": "Python 3"
    },
    "language_info": {
      "name": "python"
    }
  },
  "cells": [
    {
      "cell_type": "code",
      "execution_count": 38,
      "metadata": {
        "id": "ZAQcJWi1MSUS"
      },
      "outputs": [],
      "source": [
        "from bs4 import BeautifulSoup\n",
        "import requests\n",
        "import time\n",
        "import datetime\n",
        "import smtplib\n",
        "import csv\n",
        "import pandas as pd"
      ]
    },
    {
      "cell_type": "code",
      "source": [
        "def check_price():\n",
        "  URL = 'https://www.amazon.in/Apple-iPhone-16-Pro-256/dp/B0DGJC8DG8/ref=sr_1_4?crid=YI24RRNSIHBC&dib=eyJ2IjoiMSJ9.YQ7f0XBMTTuyp8JcAKlLgBTL7MzoIR219J0C2YuE7dZg6uWu-jJ4DOjkccsiwqXGfZfrPT5TFv2akPh3rdL3Uwl2sgZONxu1f55HKGrM5qiyIuIlRd_e6SOwCZqfJUNJRrjvnFtlW1VqeG3ZOkyja1fvZ-hl2opdURwQuJpfERi08TY5KTAvrdL--PQNAYbk8gzKKRJNY4FS0AV7aPApeZG1tWMQpgqtNZ2TRn492cc.RMkvuRpiKaZfgd3apqlxhiZYnhnGNfXDKbI-D-pOU-U&dib_tag=se&keywords=iphone+16+pro&qid=1729167707&sprefix=iphone+16+pro%2Caps%2C270&sr=8-4'\n",
        "\n",
        "  headers = {\"User-Agent\": \"Mozilla/5.0 (Windows NT 10.0; Win64; x64) AppleWebKit/537.36 (KHTML, like Gecko) Chrome/129.0.0.0 Safari/537.36\"}\n",
        "\n",
        "  page = requests.get(URL, headers=headers)\n",
        "\n",
        "  soup1 = BeautifulSoup(page.content, \"html.parser\")\n",
        "\n",
        "  soup2 = BeautifulSoup(soup1.prettify(), \"html.parser\")\n",
        "\n",
        "  title = soup2.find(id='productTitle').get_text().strip()\n",
        "\n",
        "  price = soup2.find(class_=\"aok-offscreen\").get_text().strip()[1:]\n",
        "\n",
        "  today = datetime.date.today()\n",
        "\n",
        "  header = ['Title', 'Price', 'Date']\n",
        "  data = [title, price, today]\n",
        "\n",
        "\n",
        "\n",
        "\n",
        "  with open('AmazonWebScraperDataset.csv', 'a+', newline='', encoding='UTF8') as f:\n",
        "      writer = csv.writer(f)\n",
        "      writer.writerow(data)\n"
      ],
      "metadata": {
        "id": "cHxW4V6sdOe-"
      },
      "execution_count": 40,
      "outputs": []
    },
    {
      "cell_type": "code",
      "source": [
        "while(True):\n",
        "  check_price()\n",
        "  time.sleep(432000)"
      ],
      "metadata": {
        "id": "DDWXo2JZgj8d"
      },
      "execution_count": null,
      "outputs": []
    },
    {
      "cell_type": "code",
      "source": [
        "df = pd.read_csv(r'/content/AmazonWebScraperDataset.csv')\n",
        "\n",
        "print(df)"
      ],
      "metadata": {
        "colab": {
          "base_uri": "https://localhost:8080/"
        },
        "id": "Ijox1BL8e6eV",
        "outputId": "99fb7d97-f122-4da9-ce64-3189be0002c0"
      },
      "execution_count": 42,
      "outputs": [
        {
          "output_type": "stream",
          "name": "stdout",
          "text": [
            "                                            Title        Price        Date\n",
            "0   Apple iPhone 16 Pro (256 GB) - Black Titanium  1,29,900.00  2024-10-17\n",
            "1   Apple iPhone 16 Pro (256 GB) - Black Titanium  1,29,900.00  2024-10-17\n",
            "2   Apple iPhone 16 Pro (256 GB) - Black Titanium  1,29,900.00  2024-10-17\n",
            "3   Apple iPhone 16 Pro (256 GB) - Black Titanium  1,29,900.00  2024-10-17\n",
            "4   Apple iPhone 16 Pro (256 GB) - Black Titanium  1,29,900.00  2024-10-17\n",
            "5   Apple iPhone 16 Pro (256 GB) - Black Titanium  1,29,900.00  2024-10-17\n",
            "6   Apple iPhone 16 Pro (256 GB) - Black Titanium  1,29,900.00  2024-10-17\n",
            "7   Apple iPhone 16 Pro (256 GB) - Black Titanium  1,29,900.00  2024-10-17\n",
            "8   Apple iPhone 16 Pro (256 GB) - Black Titanium  1,29,900.00  2024-10-17\n",
            "9   Apple iPhone 16 Pro (256 GB) - Black Titanium  1,29,900.00  2024-10-17\n",
            "10  Apple iPhone 16 Pro (256 GB) - Black Titanium  1,29,900.00  2024-10-17\n",
            "11  Apple iPhone 16 Pro (256 GB) - Black Titanium  1,29,900.00  2024-10-17\n",
            "12  Apple iPhone 16 Pro (256 GB) - Black Titanium  1,29,900.00  2024-10-17\n",
            "13  Apple iPhone 16 Pro (256 GB) - Black Titanium  1,29,900.00  2024-10-17\n",
            "14  Apple iPhone 16 Pro (256 GB) - Black Titanium  1,29,900.00  2024-10-17\n",
            "15  Apple iPhone 16 Pro (256 GB) - Black Titanium  1,29,900.00  2024-10-17\n",
            "16  Apple iPhone 16 Pro (256 GB) - Black Titanium  1,29,900.00  2024-10-17\n"
          ]
        }
      ]
    },
    {
      "cell_type": "code",
      "source": [
        "def send_mail():\n",
        "    server = smtplib.SMTP_SSL('smtp.gmail.com',465)\n",
        "    server.ehlo()\n",
        "    #server.starttls()\n",
        "    server.ehlo()\n",
        "    server.login('admin@gmail.com','123456789')\n",
        "\n",
        "    subject = \"iPhone 16 pro is 1 lakh rupees! Now is your chance to buy!\"\n",
        "    body = \"Hey, This is the moment we have been waiting for. Now is your chance to pick up the phone of your dreams. Don't mess it up! Link here: https://www.amazon.in/Apple-iPhone-16-Pro-256/dp/B0DGJC8DG8/ref=sr_1_4?crid=YI24RRNSIHBC&dib=eyJ2IjoiMSJ9.YQ7f0XBMTTuyp8JcAKlLgBTL7MzoIR219J0C2YuE7dZg6uWu-jJ4DOjkccsiwqXGfZfrPT5TFv2akPh3rdL3Uwl2sgZONxu1f55HKGrM5qiyIuIlRd_e6SOwCZqfJUNJRrjvnFtlW1VqeG3ZOkyja1fvZ-hl2opdURwQuJpfERi08TY5KTAvrdL--PQNAYbk8gzKKRJNY4FS0AV7aPApeZG1tWMQpgqtNZ2TRn492cc.RMkvuRpiKaZfgd3apqlxhiZYnhnGNfXDKbI-D-pOU-U&dib_tag=se&keywords=iphone+16+pro&qid=1729167707&sprefix=iphone+16+pro%2Caps%2C270&sr=8-4\"\n",
        "\n",
        "    msg = f\"Subject: {subject}\\n\\n{body}\"\n",
        "\n",
        "    server.sendmail(\n",
        "        'admin@gmail.com',\n",
        "        msg\n",
        "\n",
        "    )\n",
        ""
      ],
      "metadata": {
        "id": "TOrwMn9oedRc"
      },
      "execution_count": 43,
      "outputs": []
    }
  ]
}